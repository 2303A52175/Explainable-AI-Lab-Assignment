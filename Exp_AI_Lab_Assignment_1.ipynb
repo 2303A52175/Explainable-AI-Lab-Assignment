{
  "nbformat": 4,
  "nbformat_minor": 0,
  "metadata": {
    "colab": {
      "provenance": []
    },
    "kernelspec": {
      "name": "python3",
      "display_name": "Python 3"
    },
    "language_info": {
      "name": "python"
    }
  },
  "cells": [
    {
      "cell_type": "markdown",
      "source": [
        "# 1. Skill Boost – Coding Bootcamp"
      ],
      "metadata": {
        "id": "IwdkHVNoe1Cm"
      }
    },
    {
      "cell_type": "code",
      "source": [
        "import numpy as np\n",
        "import pandas as pd\n",
        "from sklearn.linear_model import LinearRegression\n",
        "import shap\n",
        "df = pd.read_excel(r\"/content/webinars.xlsx\")\n",
        "print(df.columns)\n",
        "x=df[['Webinars Attended (x)']]\n",
        "y=df['Sign-ups (y)']\n",
        "model = LinearRegression()\n",
        "model.fit(x, y)\n",
        "slope = model.coef_[0]\n",
        "intercept = model.intercept_\n",
        "print(f\"Slope: {slope:.2f}\")\n",
        "print(f\"Intercept: {intercept:.2f}\")\n",
        "print(f\"Equation of the linear model: y = {slope:.2f}x + {intercept:.2f}\")\n",
        "pred = model.predict(x)\n",
        "baseline = np.mean(y)\n",
        "print(\"Baseline :\", baseline)"
      ],
      "metadata": {
        "colab": {
          "base_uri": "https://localhost:8080/"
        },
        "id": "Xn5Q8xGhIb3y",
        "outputId": "5787515e-96ef-48a2-83c7-3c1ce2493004"
      },
      "execution_count": 1,
      "outputs": [
        {
          "output_type": "stream",
          "name": "stdout",
          "text": [
            "Index(['Webinars Attended (x)', 'Sign-ups (y)'], dtype='object')\n",
            "Slope: 9.36\n",
            "Intercept: 6.71\n",
            "Equation of the linear model: y = 9.36x + 6.71\n",
            "Baseline : 14.2\n"
          ]
        }
      ]
    },
    {
      "cell_type": "code",
      "source": [
        "shap_values = pred - baseline\n",
        "print(\"SHAP Value :\", shap_values)"
      ],
      "metadata": {
        "colab": {
          "base_uri": "https://localhost:8080/"
        },
        "id": "jj4fho1xc9qv",
        "outputId": "c334ef89-bc7b-4759-9829-6215d3c10672"
      },
      "execution_count": 2,
      "outputs": [
        {
          "output_type": "stream",
          "name": "stdout",
          "text": [
            "SHAP Value : [-7.48571429  1.87142857 11.22857143 -7.48571429  1.87142857]\n"
          ]
        }
      ]
    },
    {
      "cell_type": "code",
      "source": [
        "check = pred == baseline + shap_values\n",
        "print(\"Final Prediction:\", baseline + shap_values)\n",
        "print(\"Residuals:\", y - pred)"
      ],
      "metadata": {
        "colab": {
          "base_uri": "https://localhost:8080/"
        },
        "id": "b6WXtkBwdrd_",
        "outputId": "b898a217-950a-4523-e846-bfce2b85780f"
      },
      "execution_count": 3,
      "outputs": [
        {
          "output_type": "stream",
          "name": "stdout",
          "text": [
            "Final Prediction: [ 6.71428571 16.07142857 25.42857143  6.71428571 16.07142857]\n",
            "Residuals: 0   -1.714286\n",
            "1   -1.071429\n",
            "2   -0.428571\n",
            "3    1.285714\n",
            "4    1.928571\n",
            "Name: Sign-ups (y), dtype: float64\n"
          ]
        }
      ]
    },
    {
      "cell_type": "code",
      "source": [
        "Difference = pred - y\n",
        "Prediction_Type = np.where(Difference > 0, 'Overpredicted', 'Underpredicted')\n",
        "\n",
        "results = pd.DataFrame({\n",
        "    'Webinars Attended (x)': x['Webinars Attended (x)'],\n",
        "    'Actual_SignUps': y,\n",
        "    'Predicted_SignUps': pred,\n",
        "    'Baseline': baseline,\n",
        "    'SHAP_Value': shap_values,\n",
        "    'Final Prediction': baseline + shap_values,\n",
        "    'Residuals': y - pred,\n",
        "    'Difference': Difference,\n",
        "    'Prediction_Type': Prediction_Type\n",
        "})\n",
        "print(results)"
      ],
      "metadata": {
        "colab": {
          "base_uri": "https://localhost:8080/"
        },
        "id": "qsgGk4x0d0Va",
        "outputId": "3fd7e29a-a52d-4c62-bb5a-b76a85489d07"
      },
      "execution_count": 8,
      "outputs": [
        {
          "output_type": "stream",
          "name": "stdout",
          "text": [
            "   Webinars Attended (x)  Actual_SignUps  Predicted_SignUps  Baseline  \\\n",
            "0                      0               5           6.714286      14.2   \n",
            "1                      1              15          16.071429      14.2   \n",
            "2                      2              25          25.428571      14.2   \n",
            "3                      0               8           6.714286      14.2   \n",
            "4                      1              18          16.071429      14.2   \n",
            "\n",
            "   SHAP_Value  Final Prediction  Residuals  Difference Prediction_Type  \n",
            "0   -7.485714          6.714286  -1.714286    1.714286   Overpredicted  \n",
            "1    1.871429         16.071429  -1.071429    1.071429   Overpredicted  \n",
            "2   11.228571         25.428571  -0.428571    0.428571   Overpredicted  \n",
            "3   -7.485714          6.714286   1.285714   -1.285714  Underpredicted  \n",
            "4    1.871429         16.071429   1.928571   -1.928571  Underpredicted  \n"
          ]
        }
      ]
    },
    {
      "cell_type": "markdown",
      "source": [
        "# 2. FinTrack – Investment Signup Prediction using Multiple Linear Regression and SHAP Analysis"
      ],
      "metadata": {
        "id": "5NgZmzR4e54h"
      }
    },
    {
      "cell_type": "code",
      "source": [
        "import numpy as np\n",
        "import pandas as pd\n",
        "from sklearn.linear_model import LinearRegression\n",
        "import shap\n",
        "data = pd.read_excel(\"/content/webinars-blogs.xlsx\")\n",
        "print(df.columns)\n",
        "x=data[['Webinars (x1)','Blogs (x2)']]\n",
        "y=data['Sign-ups (y)']\n",
        "model = LinearRegression()\n",
        "model.fit(x, y)\n",
        "intercept = model.intercept_\n",
        "coef_webinars, coef_blogs = model.coef_\n",
        "print(f\"Coefficient Webinars: {coef_webinars:.2f}\")\n",
        "print(f\"Coefficient blogs: {coef_blogs:.2f}\")\n",
        "print(f\"Intercept: {intercept:.2f}\")\n",
        "print(f\"Equation of the linear model: y = {coef_webinars:.2f}x1 + {coef_blogs:.2f}x2 + {intercept:.2f}\")\n",
        "pred = model.predict(x)\n",
        "baseline = np.mean(y)\n",
        "print(\"Baseline :\", baseline)"
      ],
      "metadata": {
        "colab": {
          "base_uri": "https://localhost:8080/"
        },
        "id": "EbHUfTsfe7xg",
        "outputId": "5799557c-7c6d-412f-95d6-40a62660f94a"
      },
      "execution_count": 11,
      "outputs": [
        {
          "output_type": "stream",
          "name": "stdout",
          "text": [
            "Index(['Webinars Attended (x)', 'Sign-ups (y)'], dtype='object')\n",
            "Coefficient Webinars: 7.75\n",
            "Coefficient blogs: 4.27\n",
            "Intercept: 15.59\n",
            "Equation of the linear model: y = 7.75x1 + 4.27x2 + 15.59\n",
            "Baseline : 47.0\n"
          ]
        }
      ]
    },
    {
      "cell_type": "code",
      "source": [
        "SHAP_Webinars = coef_webinars * (data['Webinars (x1)'] - x['Webinars (x1)'].mean())\n",
        "SHAP_Blogs = coef_blogs * (data['Blogs (x2)'] - x['Blogs (x2)'].mean())\n",
        "print(f\"SHAP_Webinars: {SHAP_Webinars}\")\n",
        "print(f\"SHAP_Blogs: {SHAP_Blogs}\")"
      ],
      "metadata": {
        "colab": {
          "base_uri": "https://localhost:8080/"
        },
        "id": "uFoC1kFghehU",
        "outputId": "0874c191-87a6-47d7-f6c3-02bce364f6af"
      },
      "execution_count": 13,
      "outputs": [
        {
          "output_type": "stream",
          "name": "stdout",
          "text": [
            "SHAP_Webinars: 0     4.647059\n",
            "1    -3.098039\n",
            "2   -10.843137\n",
            "3    12.392157\n",
            "4    -3.098039\n",
            "Name: Webinars (x1), dtype: float64\n",
            "SHAP_Blogs: 0    8.54902\n",
            "1    0.00000\n",
            "2    4.27451\n",
            "3   -4.27451\n",
            "4   -8.54902\n",
            "Name: Blogs (x2), dtype: float64\n"
          ]
        }
      ]
    },
    {
      "cell_type": "code",
      "source": [
        "Final_Prediction = baseline + SHAP_Webinars + SHAP_Blogs\n",
        "print(f\"Final_Prediction: {Final_Prediction}\")"
      ],
      "metadata": {
        "colab": {
          "base_uri": "https://localhost:8080/"
        },
        "id": "iOL7KVbVh-Tf",
        "outputId": "4d421eaf-53ac-42f2-ba28-50fab802a706"
      },
      "execution_count": 15,
      "outputs": [
        {
          "output_type": "stream",
          "name": "stdout",
          "text": [
            "Final_Prediction: 0    60.196078\n",
            "1    43.901961\n",
            "2    40.431373\n",
            "3    55.117647\n",
            "4    35.352941\n",
            "dtype: float64\n"
          ]
        }
      ]
    },
    {
      "cell_type": "code",
      "source": [
        "Residuals = y - pred\n",
        "print(f\"Residuals: {Residuals}\")"
      ],
      "metadata": {
        "colab": {
          "base_uri": "https://localhost:8080/"
        },
        "id": "QSQU-cShovgN",
        "outputId": "2b6d6358-275b-4c2f-9a58-3f178d5a2d30"
      },
      "execution_count": 16,
      "outputs": [
        {
          "output_type": "stream",
          "name": "stdout",
          "text": [
            "Residuals: 0   -0.196078\n",
            "1    1.098039\n",
            "2   -0.431373\n",
            "3   -0.117647\n",
            "4   -0.352941\n",
            "Name: Sign-ups (y), dtype: float64\n"
          ]
        }
      ]
    },
    {
      "cell_type": "code",
      "source": [
        "Difference = pred - y\n",
        "Prediction_Type = np.where(Difference > 0, 'Overpredicted', 'Underpredicted')\n",
        "\n",
        "results = pd.DataFrame({\n",
        "    'Webinars (x1)': data['Webinars (x1)'],\n",
        "    'Blogs (x2)': data['Blogs (x2)'],\n",
        "    'Actual_SignUps': y,\n",
        "    'Predicted_SignUps': pred,\n",
        "    'baseline': baseline,\n",
        "    'SHAP_Webinars': SHAP_Webinars,\n",
        "    'SHAP_Blogs': SHAP_Blogs,\n",
        "    'Final_Prediction': Final_Prediction,\n",
        "    'Residuals': Residuals,\n",
        "    'Difference': Difference,\n",
        "    'Prediction_Type': Prediction_Type\n",
        "})\n",
        "print(results)"
      ],
      "metadata": {
        "colab": {
          "base_uri": "https://localhost:8080/"
        },
        "id": "a7jpLcfvo30B",
        "outputId": "87debbc2-32a1-47b5-bd15-6b4997e4866e"
      },
      "execution_count": 20,
      "outputs": [
        {
          "output_type": "stream",
          "name": "stdout",
          "text": [
            "   Webinars (x1)  Blogs (x2)  Actual_SignUps  Predicted_SignUps  baseline  \\\n",
            "0              3           5              60          60.196078      47.0   \n",
            "1              2           3              45          43.901961      47.0   \n",
            "2              1           4              40          40.431373      47.0   \n",
            "3              4           2              55          55.117647      47.0   \n",
            "4              2           1              35          35.352941      47.0   \n",
            "\n",
            "   SHAP_Webinars  SHAP_Blogs  Final_Prediction  Residuals  Difference  \\\n",
            "0       4.647059     8.54902         60.196078  -0.196078    0.196078   \n",
            "1      -3.098039     0.00000         43.901961   1.098039   -1.098039   \n",
            "2     -10.843137     4.27451         40.431373  -0.431373    0.431373   \n",
            "3      12.392157    -4.27451         55.117647  -0.117647    0.117647   \n",
            "4      -3.098039    -8.54902         35.352941  -0.352941    0.352941   \n",
            "\n",
            "  Prediction_Type  \n",
            "0   Overpredicted  \n",
            "1  Underpredicted  \n",
            "2   Overpredicted  \n",
            "3   Overpredicted  \n",
            "4   Overpredicted  \n"
          ]
        }
      ]
    },
    {
      "cell_type": "markdown",
      "source": [
        "# 3. Regression with Diabetes Dataset"
      ],
      "metadata": {
        "id": "zXmS2fIMzimQ"
      }
    },
    {
      "cell_type": "code",
      "source": [
        "import pandas as pd\n",
        "from sklearn.linear_model import LinearRegression\n",
        "data = pd.DataFrame({\n",
        "    'age':   [0.03, -0.02, 0.05, -0.08, 0.01, 0.02, -0.04, 0.07],\n",
        "    'sex':   [0.02, -0.01, 0.03, -0.02, 0.01, 0.00, -0.03, 0.04],\n",
        "    'bmi':   [0.06, -0.05, 0.04, -0.01, -0.03, 0.05, -0.02, 0.06],\n",
        "    'bp':    [0.02, -0.03, -0.01, -0.04, 0.02, 0.01, -0.05, 0.03],\n",
        "    's1':    [0.01, 0.02, -0.03, 0.04, -0.01, 0.02, 0.01, -0.02],\n",
        "    's2':    [0.02, -0.04, 0.01, 0.03, 0.00, -0.01, 0.02, 0.01],\n",
        "    's3':    [-0.01, 0.03, -0.02, 0.01, -0.03, 0.04, 0.00, 0.02],\n",
        "    's4':    [0.05, -0.02, 0.01, 0.03, -0.04, 0.02, -0.01, 0.04],\n",
        "    'DiseaseProgression': [151, 75, 141, 206, 135, 178, 120, 200]\n",
        "})\n",
        "\n",
        "X = data.drop(columns=['DiseaseProgression'])\n",
        "y = data['DiseaseProgression']\n",
        "\n",
        "model = LinearRegression()\n",
        "model.fit(X, y)\n",
        "intercept = model.intercept_\n",
        "coefficients = model.coef_\n",
        "feature_names = X.columns\n",
        "baseline = y.mean()\n",
        "print(f\"Intercept (β₀): {intercept:.2f}\")\n",
        "print(f\"Coefficients (β₁): {coefficients}\")\n",
        "print(f\"Feature names: {feature_names}\")\n",
        "print(f\"Baseline: {baseline}\")\n"
      ],
      "metadata": {
        "colab": {
          "base_uri": "https://localhost:8080/"
        },
        "id": "Ultx7t159wjw",
        "outputId": "04e5e711-4951-4378-f78b-5f0357e54b82"
      },
      "execution_count": 53,
      "outputs": [
        {
          "output_type": "stream",
          "name": "stdout",
          "text": [
            "Intercept (β₀): 143.62\n",
            "Coefficients (β₁): [-2392.21274169  2429.05317105  1323.01827638   943.82389566\n",
            " -1168.13424224  1297.33151619  1721.67099805 -1294.83652434]\n",
            "Feature names: Index(['age', 'sex', 'bmi', 'bp', 's1', 's2', 's3', 's4'], dtype='object')\n",
            "Baseline: 150.75\n"
          ]
        }
      ]
    },
    {
      "cell_type": "code",
      "source": [
        "y_pred = model.predict(X)\n",
        "X_mean = X.mean()\n",
        "shap_values = pd.DataFrame(index=X.index, columns=feature_names)\n",
        "\n",
        "for feature, coef in zip(feature_names, coefficients):\n",
        "    shap_values[feature] = coef * (X[feature] - X_mean[feature])\n",
        "    shap_values['Sum_SHAP'] = shap_values.sum(axis=1)\n",
        "    shap_values['Baseline_plus_SHAP'] = baseline + shap_values['Sum_SHAP']\n",
        "print(\" SHAP values\")\n",
        "print(shap_values)\n"
      ],
      "metadata": {
        "colab": {
          "base_uri": "https://localhost:8080/"
        },
        "id": "gHNl-0vECEFS",
        "outputId": "7feb08b5-0f56-44c6-94ed-ca4f24371b96"
      },
      "execution_count": 55,
      "outputs": [
        {
          "output_type": "stream",
          "name": "stdout",
          "text": [
            " SHAP values\n",
            "          age        sex        bmi         bp         s1         s2  \\\n",
            "0  -59.805319  36.435798  62.843368  24.775377  -5.840671  19.459973   \n",
            "1   59.805319 -36.435798 -82.688642 -22.415818 -17.522014 -58.379918   \n",
            "2 -107.649573  60.726329  36.383003  -3.539340  40.884698   6.486658   \n",
            "3  203.338083 -60.726329 -29.767911 -31.854056 -40.884698  32.433288   \n",
            "4  -11.961064  12.145266 -56.228277  24.775377  17.522014  -6.486658   \n",
            "5  -35.883191 -12.145266  49.613185  15.337138 -17.522014 -19.459973   \n",
            "6  107.649573 -85.016861 -42.998094 -41.292295  -5.840671  19.459973   \n",
            "7 -155.493828  85.016861  62.843368  34.213616  29.203356   6.486658   \n",
            "\n",
            "          s3         s4      Sum_SHAP Baseline_plus_SHAP  \n",
            "0 -25.825065 -51.793461  13168.750035       13319.500035  \n",
            "1  43.041775  38.845096  23360.465919       23511.215919  \n",
            "2 -43.041775  -0.000000   2118.813999        2269.563999  \n",
            "3   8.608355 -25.896730  60035.054073       60185.804073  \n",
            "4 -60.258485  64.741826  14964.672751       15115.422751  \n",
            "5  60.258485 -12.948365  11822.446541       11973.196541  \n",
            "6  -8.608355  25.896730  31858.490193       32009.240193  \n",
            "7  25.825065 -38.845096   -4166.69351        -4015.94351  \n"
          ]
        }
      ]
    },
    {
      "cell_type": "code",
      "source": [
        "Difference = y_pred - y\n",
        "Prediction_Type = np.where(Difference > 0, 'Overpredicted', 'Underpredicted')\n",
        "\n",
        "results = pd.DataFrame({\n",
        "    'Actual': y,\n",
        "    'Predicted': y_pred,\n",
        "    'Baseline': baseline,\n",
        "    'Sum_SHAP': shap_values['Sum_SHAP'],\n",
        "    'Baseline_plus_SHAP': shap_values['Baseline_plus_SHAP'],\n",
        "    'Difference': Difference,\n",
        "    'Prediction_Type': Prediction_Type\n",
        "})\n",
        "print(\"Results\")\n",
        "print(results)"
      ],
      "metadata": {
        "colab": {
          "base_uri": "https://localhost:8080/"
        },
        "id": "RdkUC_DVB7zz",
        "outputId": "0387e9f9-d27b-472a-d4f0-7b7233cff388"
      },
      "execution_count": 58,
      "outputs": [
        {
          "output_type": "stream",
          "name": "stdout",
          "text": [
            "Results\n",
            "   Actual  Predicted  Baseline      Sum_SHAP Baseline_plus_SHAP    Difference  \\\n",
            "0     151      151.0    150.75  13168.750035       13319.500035 -5.684342e-14   \n",
            "1      75       75.0    150.75  23360.465919       23511.215919  2.557954e-13   \n",
            "2     141      141.0    150.75   2118.813999        2269.563999  1.136868e-13   \n",
            "3     206      206.0    150.75  60035.054073       60185.804073  3.126388e-13   \n",
            "4     135      135.0    150.75  14964.672751       15115.422751 -8.526513e-14   \n",
            "5     178      178.0    150.75  11822.446541       11973.196541 -4.263256e-13   \n",
            "6     120      120.0    150.75  31858.490193       32009.240193 -2.415845e-13   \n",
            "7     200      200.0    150.75   -4166.69351        -4015.94351  2.273737e-13   \n",
            "\n",
            "  Prediction_Type  \n",
            "0  Underpredicted  \n",
            "1   Overpredicted  \n",
            "2   Overpredicted  \n",
            "3   Overpredicted  \n",
            "4  Underpredicted  \n",
            "5  Underpredicted  \n",
            "6  Underpredicted  \n",
            "7   Overpredicted  \n"
          ]
        }
      ]
    },
    {
      "cell_type": "markdown",
      "source": [
        "# 4. Regression with Student Performance Dataset"
      ],
      "metadata": {
        "id": "6B0VmYPXDXbl"
      }
    },
    {
      "cell_type": "code",
      "source": [
        "import pandas as pd\n",
        "from sklearn.linear_model import LinearRegression\n",
        "data = pd.DataFrame({\n",
        "    'study_time': [2, 1, 3, 4, 2, 3, 1, 4],\n",
        "    'parent_edu': [3, 2, 4, 4, 3, 5, 2, 4],\n",
        "    'absences':   [4, 10, 2, 0, 6, 3, 12, 1],\n",
        "    'failures':   [0, 1, 0, 0, 1, 0, 2, 0],\n",
        "    'health':     [4, 3, 5, 4, 2, 4, 3, 5],\n",
        "    'G1':         [12, 10, 14, 15, 11, 14, 9, 15],\n",
        "    'G2':         [13, 11, 15, 15, 12, 15, 10, 16],\n",
        "    'FinalScore': [14, 12, 16, 17, 13, 16, 11, 18]\n",
        "})\n",
        "\n",
        "X = data.drop(columns=['FinalScore'])\n",
        "y = data['FinalScore']\n",
        "model = LinearRegression()\n",
        "model.fit(X, y)\n",
        "\n",
        "intercept = model.intercept_\n",
        "coefficients = model.coef_\n",
        "feature_names = X.columns.tolist()\n",
        "baseline = y.mean()\n",
        "print(f\"Intercept (β₀): {intercept:.2f}\")\n",
        "print(f\"Coefficients (β₁): {coefficients}\")\n",
        "print(f\"Feature names: {feature_names}\")\n",
        "print(f\"Baseline: {baseline}\")\n"
      ],
      "metadata": {
        "colab": {
          "base_uri": "https://localhost:8080/"
        },
        "id": "T9sLuyWSDXBt",
        "outputId": "6613a0f5-2511-4058-b237-c24c57b64a9a"
      },
      "execution_count": 68,
      "outputs": [
        {
          "output_type": "stream",
          "name": "stdout",
          "text": [
            "Intercept (β₀): 3.50\n",
            "Coefficients (β₁): [ 1.7500000e+00 -2.5000000e-01  2.5000000e-01 -1.0000000e+00\n",
            "  2.8449465e-16 -2.5000000e-01  7.5000000e-01]\n",
            "Feature names: ['study_time', 'parent_edu', 'absences', 'failures', 'health', 'G1', 'G2']\n",
            "Baseline: 14.625\n"
          ]
        }
      ]
    },
    {
      "cell_type": "code",
      "source": [
        "y_pred = model.predict(X)\n",
        "X_mean = X.mean()\n",
        "shap_values = pd.DataFrame(index=X.index, columns=feature_names)\n",
        "\n",
        "for feature, coef in zip(feature_names, coefficients):\n",
        "    shap_values[feature] = coef * (X[feature] - X_mean[feature])\n",
        "\n",
        "shap_values['Sum_SHAP'] = shap_values.sum(axis=1)\n",
        "shap_values['Baseline_plus_SHAP'] = baseline + shap_values['Sum_SHAP']\n",
        "print(\"\\nSHAP values:\")\n",
        "print(shap_values)"
      ],
      "metadata": {
        "colab": {
          "base_uri": "https://localhost:8080/"
        },
        "id": "Bv0Ei5jiEKYR",
        "outputId": "8dce66f9-f025-4588-8760-93f13b41244a"
      },
      "execution_count": 62,
      "outputs": [
        {
          "output_type": "stream",
          "name": "stdout",
          "text": [
            "\n",
            "SHAP values:\n",
            "   study_time  parent_edu  absences  failures        health     G1       G2  \\\n",
            "0      -0.875     0.09375   -0.1875       0.5  7.112366e-17  0.125 -0.28125   \n",
            "1      -2.625     0.34375    1.3125      -0.5 -2.133710e-16  0.625 -1.78125   \n",
            "2       0.875    -0.15625   -0.6875       0.5  3.556183e-16 -0.375  1.21875   \n",
            "3       2.625    -0.15625   -1.1875       0.5  7.112366e-17 -0.625  1.21875   \n",
            "4      -0.875     0.09375    0.3125      -0.5 -4.978656e-16  0.375 -1.03125   \n",
            "5       0.875    -0.40625   -0.4375       0.5  7.112366e-17 -0.375  1.21875   \n",
            "6      -2.625     0.34375    1.8125      -1.5 -2.133710e-16  0.875 -2.53125   \n",
            "7       2.625    -0.15625   -0.9375       0.5  3.556183e-16 -0.625  1.96875   \n",
            "\n",
            "   Sum_SHAP  Baseline_plus_SHAP  \n",
            "0    -0.625                14.0  \n",
            "1    -2.625                12.0  \n",
            "2     1.375                16.0  \n",
            "3     2.375                17.0  \n",
            "4    -1.625                13.0  \n",
            "5     1.375                16.0  \n",
            "6    -3.625                11.0  \n",
            "7     3.375                18.0  \n"
          ]
        }
      ]
    },
    {
      "cell_type": "code",
      "source": [
        "Difference = y_pred - y\n",
        "Prediction_Type = np.where(Difference > 0, 'Overpredicted', 'Underpredicted')\n",
        "\n",
        "results = pd.DataFrame({\n",
        "    'Actual': y,\n",
        "    'Predicted': y_pred,\n",
        "    'Baseline': baseline,\n",
        "    'Sum_SHAP': shap_values['Sum_SHAP'],\n",
        "    'Baseline_plus_SHAP': shap_values['Baseline_plus_SHAP'],\n",
        "    'Difference': Difference,\n",
        "    'Prediction_Type': Prediction_Type\n",
        "})\n",
        "print(\"\\nResults:\")\n",
        "print(results)\n"
      ],
      "metadata": {
        "colab": {
          "base_uri": "https://localhost:8080/"
        },
        "id": "jwTD2IJeEC_a",
        "outputId": "d592d82c-884e-4a86-ab76-cc17dbc6fc02"
      },
      "execution_count": 65,
      "outputs": [
        {
          "output_type": "stream",
          "name": "stdout",
          "text": [
            "\n",
            "Results:\n",
            "   Actual  Predicted  Baseline  Sum_SHAP  Baseline_plus_SHAP    Difference  \\\n",
            "0      14       14.0    14.625    -0.625                14.0  1.776357e-15   \n",
            "1      12       12.0    14.625    -2.625                12.0  0.000000e+00   \n",
            "2      16       16.0    14.625     1.375                16.0  0.000000e+00   \n",
            "3      17       17.0    14.625     2.375                17.0  0.000000e+00   \n",
            "4      13       13.0    14.625    -1.625                13.0  1.776357e-15   \n",
            "5      16       16.0    14.625     1.375                16.0  0.000000e+00   \n",
            "6      11       11.0    14.625    -3.625                11.0 -1.776357e-15   \n",
            "7      18       18.0    14.625     3.375                18.0  0.000000e+00   \n",
            "\n",
            "  Prediction_Type  \n",
            "0   Overpredicted  \n",
            "1  Underpredicted  \n",
            "2  Underpredicted  \n",
            "3  Underpredicted  \n",
            "4   Overpredicted  \n",
            "5  Underpredicted  \n",
            "6  Underpredicted  \n",
            "7  Underpredicted  \n"
          ]
        }
      ]
    }
  ]
}